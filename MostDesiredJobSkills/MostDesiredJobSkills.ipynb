{
 "cells": [
  {
   "cell_type": "markdown",
   "metadata": {},
   "source": [
    "# Most Desired Skills\n",
    "\n",
    "### Dinakar Kulkarni, 5/14/2018\n",
    "\n",
    "This notebook will show you which skills are most desired in the job market. The analysis is based on real-time job postings on indeed.com."
   ]
  },
  {
   "cell_type": "markdown",
   "metadata": {},
   "source": [
    "> Import the necessary Python packages"
   ]
  },
  {
   "cell_type": "code",
   "execution_count": 1,
   "metadata": {},
   "outputs": [],
   "source": [
    "from IPython.core.display import display\n",
    "from ipywidgets import widgets\n",
    "import requests\n",
    "from bs4 import BeautifulSoup\n",
    "from collections import Counter\n",
    "import pandas as pd\n",
    "import matplotlib.pyplot as plt\n",
    "import seaborn as sns"
   ]
  },
  {
   "cell_type": "markdown",
   "metadata": {},
   "source": [
    "> Specify the Job title"
   ]
  },
  {
   "cell_type": "code",
   "execution_count": 2,
   "metadata": {},
   "outputs": [
    {
     "data": {
      "application/vnd.jupyter.widget-view+json": {
       "model_id": "9f1af73ec29c470f93df301ab14f8fed",
       "version_major": 2,
       "version_minor": 0
      },
      "text/plain": [
       "Text(value='DevOps Engineer', description='Job Title', placeholder='Enter Job Title. Eg. Software Engineer')"
      ]
     },
     "metadata": {},
     "output_type": "display_data"
    }
   ],
   "source": [
    "job_title_input = widgets.Text(value = \"DevOps Engineer\",\n",
    "                               placeholder = 'Enter Job Title. Eg. Software Engineer',\n",
    "                               description = 'Job Title',\n",
    "                               disabled = False)\n",
    "display(job_title_input)\n",
    "job_title = job_title_input.value"
   ]
  },
  {
   "cell_type": "markdown",
   "metadata": {},
   "source": [
    "> Specify the Location"
   ]
  },
  {
   "cell_type": "code",
   "execution_count": 3,
   "metadata": {},
   "outputs": [
    {
     "data": {
      "application/vnd.jupyter.widget-view+json": {
       "model_id": "09853e956fd045cb813b427abe2b62c9",
       "version_major": 2,
       "version_minor": 0
      },
      "text/plain": [
       "Text(value='Los Angeles', description='Job Location', placeholder='Enter Location. Eg. New York')"
      ]
     },
     "metadata": {},
     "output_type": "display_data"
    }
   ],
   "source": [
    "location_input = widgets.Text(value = \"Los Angeles\",\n",
    "                              placeholder = 'Enter Location. Eg. New York',\n",
    "                              description = 'Job Location',\n",
    "                              disabled = False)\n",
    "display(location_input)\n",
    "location = location_input.value"
   ]
  },
  {
   "cell_type": "markdown",
   "metadata": {},
   "source": [
    "> Define the function that extracts this info from indeed.com"
   ]
  },
  {
   "cell_type": "code",
   "execution_count": 4,
   "metadata": {},
   "outputs": [],
   "source": [
    "def get_skill_info(job_title, location = \"San Francisco\", page_limit = 5):\n",
    "    job_title = job_title.replace(\" \", \"+\")\n",
    "    location = location.replace(\" \", \"+\")\n",
    "    URL = 'https://www.indeed.com/jobs?q=' + job_title + '&l=' + location\n",
    "    all_skills = []\n",
    "    for page_no in range(1,page_limit):\n",
    "        newurl = URL + '&start=' + str(page_no)\n",
    "        page = requests.get(newurl)\n",
    "        soup = BeautifulSoup(page.text, 'html5lib')\n",
    "        experienceList = soup.find_all(lambda tag: tag.name == 'span' and \n",
    "                              tag.get('class') == ['experienceList'])\n",
    "        skills = []\n",
    "        for exp in experienceList:\n",
    "            y = exp.get_text()\n",
    "            skills.append(y)\n",
    "        \n",
    "        for skill in skills:\n",
    "            all_skills.append(skill)\n",
    "            \n",
    "    return(all_skills)"
   ]
  },
  {
   "cell_type": "markdown",
   "metadata": {},
   "source": [
    "> The function returns a list of skills per job opening. We'll get that list here for 20 pages worth of search results:"
   ]
  },
  {
   "cell_type": "code",
   "execution_count": 5,
   "metadata": {},
   "outputs": [],
   "source": [
    "skill_list = get_skill_info(job_title, location, 20)"
   ]
  },
  {
   "cell_type": "markdown",
   "metadata": {},
   "source": [
    "> We'll munge that a bit here to get a consolidated skill list"
   ]
  },
  {
   "cell_type": "code",
   "execution_count": 6,
   "metadata": {},
   "outputs": [],
   "source": [
    "stringed_skill_list = \",\".join(skill_list)\n",
    "skill_vector = stringed_skill_list.split(\",\")"
   ]
  },
  {
   "cell_type": "markdown",
   "metadata": {},
   "source": [
    "> Get a summary of the skills with the help of the `Counter` function from the `collections` package"
   ]
  },
  {
   "cell_type": "code",
   "execution_count": 7,
   "metadata": {},
   "outputs": [],
   "source": [
    "counter = Counter(skill_vector)\n",
    "skill_names = counter.keys()\n",
    "skill_count = counter.values()"
   ]
  },
  {
   "cell_type": "markdown",
   "metadata": {},
   "source": [
    "> Convert the counter dictionary to a `pandas Series`"
   ]
  },
  {
   "cell_type": "code",
   "execution_count": 8,
   "metadata": {},
   "outputs": [],
   "source": [
    "df = pd.DataFrame(list(counter.items()), columns=['Skill', 'Count'])\n",
    "df = df.sort_values(['Count'], ascending = 0)"
   ]
  },
  {
   "cell_type": "markdown",
   "metadata": {},
   "source": [
    "> Visualize the first few entries of the Series"
   ]
  },
  {
   "cell_type": "code",
   "execution_count": 9,
   "metadata": {},
   "outputs": [
    {
     "data": {
      "text/html": [
       "<div>\n",
       "<style scoped>\n",
       "    .dataframe tbody tr th:only-of-type {\n",
       "        vertical-align: middle;\n",
       "    }\n",
       "\n",
       "    .dataframe tbody tr th {\n",
       "        vertical-align: top;\n",
       "    }\n",
       "\n",
       "    .dataframe thead th {\n",
       "        text-align: right;\n",
       "    }\n",
       "</style>\n",
       "<table border=\"1\" class=\"dataframe\">\n",
       "  <thead>\n",
       "    <tr style=\"text-align: right;\">\n",
       "      <th></th>\n",
       "      <th>Skill</th>\n",
       "      <th>Count</th>\n",
       "    </tr>\n",
       "  </thead>\n",
       "  <tbody>\n",
       "    <tr>\n",
       "      <th>27</th>\n",
       "      <td>AWS</td>\n",
       "      <td>84</td>\n",
       "    </tr>\n",
       "    <tr>\n",
       "      <th>25</th>\n",
       "      <td>Python</td>\n",
       "      <td>64</td>\n",
       "    </tr>\n",
       "    <tr>\n",
       "      <th>8</th>\n",
       "      <td>Puppet</td>\n",
       "      <td>50</td>\n",
       "    </tr>\n",
       "    <tr>\n",
       "      <th>30</th>\n",
       "      <td>Docker</td>\n",
       "      <td>42</td>\n",
       "    </tr>\n",
       "    <tr>\n",
       "      <th>16</th>\n",
       "      <td>Ansible</td>\n",
       "      <td>41</td>\n",
       "    </tr>\n",
       "  </tbody>\n",
       "</table>\n",
       "</div>"
      ],
      "text/plain": [
       "       Skill  Count\n",
       "27       AWS     84\n",
       "25    Python     64\n",
       "8     Puppet     50\n",
       "30    Docker     42\n",
       "16   Ansible     41"
      ]
     },
     "execution_count": 9,
     "metadata": {},
     "output_type": "execute_result"
    }
   ],
   "source": [
    "df.head()"
   ]
  },
  {
   "cell_type": "markdown",
   "metadata": {},
   "source": [
    "> Visualize the results to show the top 10 most desired skills"
   ]
  },
  {
   "cell_type": "code",
   "execution_count": 10,
   "metadata": {},
   "outputs": [
    {
     "data": {
      "image/png": "[encoded data removed]",
      "text/plain": [
       "<matplotlib.figure.Figure at 0x1a170c1fd0>"
      ]
     },
     "metadata": {},
     "output_type": "display_data"
    }
   ],
   "source": [
    "sns.barplot(x='Skill', y='Count', data=df[:10])\n",
    "sns.despine()\n",
    "plt.xticks(rotation=90)\n",
    "plt.show()"
   ]
  }
 ],
 "metadata": {
  "kernelspec": {
   "display_name": "Python 3",
   "language": "python",
   "name": "python3"
  },
  "language_info": {
   "codemirror_mode": {
    "name": "ipython",
    "version": 3
   },
   "file_extension": ".py",
   "mimetype": "text/x-python",
   "name": "python",
   "nbconvert_exporter": "python",
   "pygments_lexer": "ipython3",
   "version": "3.6.4"
  }
 },
 "nbformat": 4,
 "nbformat_minor": 2
}
