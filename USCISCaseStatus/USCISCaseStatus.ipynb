{
 "cells": [
  {
   "cell_type": "markdown",
   "metadata": {},
   "source": [
    "# USCIS Case Status Info for multiple cases"
   ]
  },
  {
   "cell_type": "markdown",
   "metadata": {},
   "source": [
    "### Imports"
   ]
  },
  {
   "cell_type": "code",
   "execution_count": 1,
   "metadata": {},
   "outputs": [],
   "source": [
    "from requests import post\n",
    "from bs4 import BeautifulSoup\n",
    "from IPython.core.display import display\n",
    "from ipywidgets import widgets\n",
    "import pandas as pd\n",
    "import numpy as np\n",
    "import re\n",
    "from datetime import datetime"
   ]
  },
  {
   "cell_type": "markdown",
   "metadata": {},
   "source": [
    "### Enter USCIS receipt number(s)"
   ]
  },
  {
   "cell_type": "code",
   "execution_count": 2,
   "metadata": {},
   "outputs": [
    {
     "data": {
      "application/vnd.jupyter.widget-view+json": {
       "model_id": "8abcb566043a4e4dbd1d15f507be274f",
       "version_major": 2,
       "version_minor": 0
      },
      "text/plain": [
       "Textarea(value='MSC1890265705\\nMSC1890265706\\nMSC1890265762\\nMSC1890265763\\nMSC1791508027', description='Recei…"
      ]
     },
     "metadata": {},
     "output_type": "display_data"
    }
   ],
   "source": [
    "receipt_inputs = widgets.Textarea(value = 'MSC1890265705\\nMSC1890265706\\nMSC1890265762\\nMSC1890265763\\nMSC1791508027',\n",
    "                                  placeholder = 'Enter USCIS Receipt Numbers, one on each line',\n",
    "                                  description = 'Receipt #s',\n",
    "                                  disabled = False)\n",
    "display(receipt_inputs)"
   ]
  },
  {
   "cell_type": "markdown",
   "metadata": {},
   "source": [
    "### Get case status information for a given receipt"
   ]
  },
  {
   "cell_type": "code",
   "execution_count": 3,
   "metadata": {},
   "outputs": [],
   "source": [
    "def get_case_status(rcpt, http_status = False):\n",
    "    # USCIS case status form\n",
    "    endpoint = \"https://egov.uscis.gov/casestatus/mycasestatus.do\"\n",
    "    \n",
    "    # Get response from POST request\n",
    "    response = post(endpoint,\n",
    "                    data={'appReceiptNum': rcpt, \n",
    "                          'caseStatusSearchBtn': 'CHECK+STATUS'})\n",
    "    \n",
    "    # Print response status code, if specified\n",
    "    if http_status:\n",
    "        print(\"Response:\", response.status_code, response.reason)\n",
    "    \n",
    "    # Response is HTML. Use BS4 to parse it and get relevant info\n",
    "    soup = BeautifulSoup(response.text, 'html.parser')\n",
    "    relevant_info = soup.find(\"div\", {\"class\": \"rows text-center\"})\n",
    "    case_summary = str(relevant_info.h1.get_text())\n",
    "    case_details = str(relevant_info.p.get_text())\n",
    "    \n",
    "    # Get application type\n",
    "    form_type_search = re.search(\"Form ([^,]+)\", case_details)\n",
    "    if form_type_search:\n",
    "        form_type = form_type_search.group(1)\n",
    "    else:\n",
    "        form_type = None\n",
    "    \n",
    "    # Get last update date\n",
    "    last_update_search = re.search(\"^On (\\w+\\s\\d{1,2},\\s+\\d{4})\", case_details)\n",
    "    if last_update_search:\n",
    "        last_update = last_update_search.group(1)\n",
    "        # Calculate days since last update\n",
    "        days_since_update = (datetime.now() - datetime.strptime(last_update, '%B %d, %Y')).days\n",
    "    else:\n",
    "        last_update = None\n",
    "        days_since_update = None\n",
    "    \n",
    "    # Return list of case summary and details\n",
    "    return[rcpt, case_summary, form_type, last_update, days_since_update, case_details]"
   ]
  },
  {
   "cell_type": "markdown",
   "metadata": {},
   "source": [
    "### Insert case status information into a Pandas DataFrame\n"
   ]
  },
  {
   "cell_type": "code",
   "execution_count": 4,
   "metadata": {},
   "outputs": [],
   "source": [
    "rcpts = receipt_inputs.value.split('\\n')\n",
    "case_statuses = pd.DataFrame(index = np.arange(0, len(rcpts)), \n",
    "                             columns=['RECEIPT #', 'STATUS', 'FORM TYPE', 'LAST UPDATE', 'DAYS SINCE LAST UPDATE', 'DETAILS'])\n",
    "for r in np.arange(0, len(rcpts)):\n",
    "    case_statuses.loc[r] = get_case_status(rcpts[r]) # Append results to DF"
   ]
  },
  {
   "cell_type": "markdown",
   "metadata": {},
   "source": [
    "### Results"
   ]
  },
  {
   "cell_type": "code",
   "execution_count": 5,
   "metadata": {},
   "outputs": [
    {
     "data": {
      "text/html": [
       "<div>\n",
       "<style scoped>\n",
       "    .dataframe tbody tr th:only-of-type {\n",
       "        vertical-align: middle;\n",
       "    }\n",
       "\n",
       "    .dataframe tbody tr th {\n",
       "        vertical-align: top;\n",
       "    }\n",
       "\n",
       "    .dataframe thead th {\n",
       "        text-align: right;\n",
       "    }\n",
       "</style>\n",
       "<table border=\"1\" class=\"dataframe\">\n",
       "  <thead>\n",
       "    <tr style=\"text-align: right;\">\n",
       "      <th></th>\n",
       "      <th>RECEIPT #</th>\n",
       "      <th>STATUS</th>\n",
       "      <th>FORM TYPE</th>\n",
       "      <th>LAST UPDATE</th>\n",
       "      <th>DAYS SINCE LAST UPDATE</th>\n",
       "      <th>DETAILS</th>\n",
       "    </tr>\n",
       "  </thead>\n",
       "  <tbody>\n",
       "    <tr>\n",
       "      <th>0</th>\n",
       "      <td>MSC1890265705</td>\n",
       "      <td>Response To USCIS' Request For Evidence Was Received</td>\n",
       "      <td>I-485</td>\n",
       "      <td>January 26, 2018</td>\n",
       "      <td>108</td>\n",
       "      <td>On January 26, 2018, we received your response to our Request for Evidence for your Form I-485, Application to Register Permanent Residence or Adjust Status, Receipt Number MSC1890265705.  Our National Benefits Center office will begin working on your case again.  We will mail you a decision or notify you if we need something from you.  If you move, go to www.uscis.gov/addresschange  to give us your new mailing address.</td>\n",
       "    </tr>\n",
       "    <tr>\n",
       "      <th>1</th>\n",
       "      <td>MSC1890265706</td>\n",
       "      <td>Case Was Received</td>\n",
       "      <td>I-130</td>\n",
       "      <td>November 20, 2017</td>\n",
       "      <td>175</td>\n",
       "      <td>On November 20, 2017, we received your Form I-130, Petition for Alien Relative, Receipt Number MSC1890265706, and sent you the receipt notice that describes how we will process your case. Please follow the instructions in the notice. If you do not receive your receipt notice by December 20, 2017, please call the USCIS Contact Center at 1-800-375-5283. If you move, go to www.uscis.gov/addresschange to give us your new mailing address.</td>\n",
       "    </tr>\n",
       "    <tr>\n",
       "      <th>2</th>\n",
       "      <td>MSC1890265762</td>\n",
       "      <td>Case Was Received</td>\n",
       "      <td>I-765</td>\n",
       "      <td>November 21, 2017</td>\n",
       "      <td>174</td>\n",
       "      <td>On November 21, 2017, we received your Form I-765, Application for Employment Authorization, Receipt Number MSC1890265762, and sent you the receipt notice that describes how we will process your case. Please follow the instructions in the notice. If you do not receive your receipt notice by December 21, 2017, please call the USCIS Contact Center at 1-800-375-5283. If you move, go to www.uscis.gov/addresschange to give us your new mailing address.</td>\n",
       "    </tr>\n",
       "    <tr>\n",
       "      <th>3</th>\n",
       "      <td>MSC1890265763</td>\n",
       "      <td>Case Was Received</td>\n",
       "      <td>I-131</td>\n",
       "      <td>November 21, 2017</td>\n",
       "      <td>174</td>\n",
       "      <td>On November 21, 2017, we received your Form I-131, Application for Travel Document, Receipt Number MSC1890265763, and sent you the receipt notice that describes how we will process your case. Please follow the instructions in the notice. If you do not receive your receipt notice by December 21, 2017, please call the USCIS Contact Center at 1-800-375-5283. If you move, go to www.uscis.gov/addresschange to give us your new mailing address.</td>\n",
       "    </tr>\n",
       "    <tr>\n",
       "      <th>4</th>\n",
       "      <td>MSC1791508027</td>\n",
       "      <td>CASE STATUS</td>\n",
       "      <td>None</td>\n",
       "      <td>None</td>\n",
       "      <td>None</td>\n",
       "      <td>At this time USCIS cannot provide you with information for your case. Please contact the USCIS Contact Center at 1-800-375-5283 for additional information.</td>\n",
       "    </tr>\n",
       "  </tbody>\n",
       "</table>\n",
       "</div>"
      ],
      "text/plain": [
       "       RECEIPT #                                                STATUS  \\\n",
       "0  MSC1890265705  Response To USCIS' Request For Evidence Was Received   \n",
       "1  MSC1890265706  Case Was Received                                      \n",
       "2  MSC1890265762  Case Was Received                                      \n",
       "3  MSC1890265763  Case Was Received                                      \n",
       "4  MSC1791508027  CASE STATUS                                            \n",
       "\n",
       "  FORM TYPE        LAST UPDATE DAYS SINCE LAST UPDATE  \\\n",
       "0  I-485     January 26, 2018   108                     \n",
       "1  I-130     November 20, 2017  175                     \n",
       "2  I-765     November 21, 2017  174                     \n",
       "3  I-131     November 21, 2017  174                     \n",
       "4  None      None               None                    \n",
       "\n",
       "                                                                                                                                                                                                                                                                                                                                                                                                                                                              DETAILS  \n",
       "0  On January 26, 2018, we received your response to our Request for Evidence for your Form I-485, Application to Register Permanent Residence or Adjust Status, Receipt Number MSC1890265705.  Our National Benefits Center office will begin working on your case again.  We will mail you a decision or notify you if we need something from you.  If you move, go to www.uscis.gov/addresschange  to give us your new mailing address.                             \n",
       "1  On November 20, 2017, we received your Form I-130, Petition for Alien Relative, Receipt Number MSC1890265706, and sent you the receipt notice that describes how we will process your case. Please follow the instructions in the notice. If you do not receive your receipt notice by December 20, 2017, please call the USCIS Contact Center at 1-800-375-5283. If you move, go to www.uscis.gov/addresschange to give us your new mailing address.               \n",
       "2  On November 21, 2017, we received your Form I-765, Application for Employment Authorization, Receipt Number MSC1890265762, and sent you the receipt notice that describes how we will process your case. Please follow the instructions in the notice. If you do not receive your receipt notice by December 21, 2017, please call the USCIS Contact Center at 1-800-375-5283. If you move, go to www.uscis.gov/addresschange to give us your new mailing address.  \n",
       "3  On November 21, 2017, we received your Form I-131, Application for Travel Document, Receipt Number MSC1890265763, and sent you the receipt notice that describes how we will process your case. Please follow the instructions in the notice. If you do not receive your receipt notice by December 21, 2017, please call the USCIS Contact Center at 1-800-375-5283. If you move, go to www.uscis.gov/addresschange to give us your new mailing address.           \n",
       "4  At this time USCIS cannot provide you with information for your case. Please contact the USCIS Contact Center at 1-800-375-5283 for additional information.                                                                                                                                                                                                                                                                                                         "
      ]
     },
     "execution_count": 5,
     "metadata": {},
     "output_type": "execute_result"
    }
   ],
   "source": [
    "pd.set_option('display.max_colwidth', -1) # Don't truncate long values\n",
    "case_statuses"
   ]
  }
 ],
 "metadata": {
  "kernelspec": {
   "display_name": "Python 3",
   "language": "python",
   "name": "python3"
  },
  "language_info": {
   "codemirror_mode": {
    "name": "ipython",
    "version": 3
   },
   "file_extension": ".py",
   "mimetype": "text/x-python",
   "name": "python",
   "nbconvert_exporter": "python",
   "pygments_lexer": "ipython3",
   "version": "3.6.4"
  }
 },
 "nbformat": 4,
 "nbformat_minor": 2
}
